{
 "cells": [
  {
   "cell_type": "markdown",
   "metadata": {},
   "source": [
    "# Configuring GPU Accelerated Keras in Windows 10"
   ]
  },
  {
   "cell_type": "markdown",
   "metadata": {},
   "source": [
    "Follow directions in this link (I installed tensorflow, not theano), with a little further help from google for other possible issues:"
   ]
  },
  {
   "cell_type": "markdown",
   "metadata": {},
   "source": [
    "https://research.wmz.ninja/articles/2017/01/configuring-gpu-accelerated-keras-in-windows-10.html"
   ]
  },
  {
   "cell_type": "markdown",
   "metadata": {},
   "source": [
    "Notice: Install CUDA 8 and cudnn 6 (instead of newer versions, learnt the hard way..)"
   ]
  },
  {
   "cell_type": "code",
   "execution_count": 1,
   "metadata": {
    "collapsed": true
   },
   "outputs": [],
   "source": [
    "#to run from anaconda prompt:\n",
    "#conda create -n tensorflow python=3.5 anaconda"
   ]
  },
  {
   "cell_type": "code",
   "execution_count": 1,
   "metadata": {},
   "outputs": [
    {
     "name": "stdout",
     "output_type": "stream",
     "text": [
      "/bin/sh: 1: activate: not found\r\n"
     ]
    }
   ],
   "source": [
    "!activate tensorflow"
   ]
  },
  {
   "cell_type": "code",
   "execution_count": 2,
   "metadata": {},
   "outputs": [
    {
     "name": "stdout",
     "output_type": "stream",
     "text": [
      "\u001b[31mtensorflow_gpu-1.0.1-cp35-cp35m-win_amd64.whl is not a supported wheel on this platform.\u001b[0m\n",
      "\u001b[33mYou are using pip version 8.1.1, however version 9.0.1 is available.\n",
      "You should consider upgrading via the 'pip install --upgrade pip' command.\u001b[0m\n"
     ]
    }
   ],
   "source": [
    "!pip install --ignore-installed --upgrade https://storage.googleapis.com/tensorflow/windows/gpu/tensorflow_gpu-1.0.1-cp35-cp35m-win_amd64.whl\n"
   ]
  },
  {
   "cell_type": "code",
   "execution_count": 3,
   "metadata": {},
   "outputs": [
    {
     "name": "stdout",
     "output_type": "stream",
     "text": [
      "\n",
      "The following command must be run outside of the IPython shell:\n",
      "\n",
      "    $ pip install --ignore-installed --upgrade tensorflow-gpu\n",
      "\n",
      "The Python package manager (pip) can only be used from outside of IPython.\n",
      "Please reissue the `pip` command in a separate terminal or command prompt.\n",
      "\n",
      "See the Python documentation for more informations on how to install packages:\n",
      "\n",
      "    https://docs.python.org/3/installing/\n"
     ]
    }
   ],
   "source": [
    "pip install --ignore-installed --upgrade tensorflow-gpu"
   ]
  },
  {
   "cell_type": "code",
   "execution_count": 5,
   "metadata": {},
   "outputs": [
    {
     "name": "stdout",
     "output_type": "stream",
     "text": [
      "Collecting keras\n",
      "  Using cached Keras-2.1.3-py2.py3-none-any.whl\n",
      "Requirement already satisfied (use --upgrade to upgrade): scipy>=0.14 in c:\\users\\sigal\\anaconda3\\lib\\site-packages (from keras)\n",
      "Requirement already satisfied (use --upgrade to upgrade): numpy>=1.9.1 in c:\\users\\sigal\\anaconda3\\lib\\site-packages (from keras)\n",
      "Requirement already satisfied (use --upgrade to upgrade): pyyaml in c:\\users\\sigal\\anaconda3\\lib\\site-packages (from keras)\n",
      "Requirement already satisfied (use --upgrade to upgrade): six>=1.9.0 in c:\\users\\sigal\\anaconda3\\lib\\site-packages (from keras)\n",
      "Installing collected packages: keras\n",
      "Successfully installed keras-2.1.3\n"
     ]
    },
    {
     "name": "stderr",
     "output_type": "stream",
     "text": [
      "You are using pip version 8.1.2, however version 9.0.1 is available.\n",
      "You should consider upgrading via the 'python -m pip install --upgrade pip' command.\n"
     ]
    }
   ],
   "source": [
    "!pip install keras\n"
   ]
  },
  {
   "cell_type": "code",
   "execution_count": 2,
   "metadata": {},
   "outputs": [
    {
     "name": "stdout",
     "output_type": "stream",
     "text": [
      "Requirement already up-to-date: tensorflow in c:\\users\\sigal\\anaconda3\\lib\\site-packages\n",
      "Requirement already up-to-date: protobuf>=3.3.0 in c:\\users\\sigal\\anaconda3\\lib\\site-packages (from tensorflow)\n",
      "Requirement already up-to-date: six>=1.10.0 in c:\\users\\sigal\\anaconda3\\lib\\site-packages (from tensorflow)\n",
      "Requirement already up-to-date: numpy>=1.12.1 in c:\\users\\sigal\\anaconda3\\lib\\site-packages (from tensorflow)\n",
      "Requirement already up-to-date: tensorflow-tensorboard<0.5.0,>=0.4.0rc1 in c:\\users\\sigal\\anaconda3\\lib\\site-packages (from tensorflow)\n",
      "Requirement already up-to-date: enum34>=1.1.6 in c:\\users\\sigal\\anaconda3\\lib\\site-packages (from tensorflow)\n",
      "Requirement already up-to-date: wheel>=0.26 in c:\\users\\sigal\\anaconda3\\lib\\site-packages (from tensorflow)\n",
      "Requirement already up-to-date: setuptools in c:\\users\\sigal\\anaconda3\\lib\\site-packages (from protobuf>=3.3.0->tensorflow)\n",
      "Requirement already up-to-date: bleach==1.5.0 in c:\\users\\sigal\\anaconda3\\lib\\site-packages (from tensorflow-tensorboard<0.5.0,>=0.4.0rc1->tensorflow)\n",
      "Requirement already up-to-date: markdown>=2.6.8 in c:\\users\\sigal\\anaconda3\\lib\\site-packages (from tensorflow-tensorboard<0.5.0,>=0.4.0rc1->tensorflow)\n",
      "Requirement already up-to-date: html5lib==0.9999999 in c:\\users\\sigal\\anaconda3\\lib\\site-packages (from tensorflow-tensorboard<0.5.0,>=0.4.0rc1->tensorflow)\n",
      "Collecting werkzeug>=0.11.10 (from tensorflow-tensorboard<0.5.0,>=0.4.0rc1->tensorflow)\n",
      "  Using cached Werkzeug-0.14.1-py2.py3-none-any.whl\n",
      "Installing collected packages: werkzeug\n",
      "  Found existing installation: Werkzeug 0.11.11\n",
      "    Uninstalling Werkzeug-0.11.11:\n",
      "      Successfully uninstalled Werkzeug-0.11.11\n",
      "Successfully installed werkzeug-0.14.1\n"
     ]
    },
    {
     "name": "stderr",
     "output_type": "stream",
     "text": [
      "    DEPRECATION: Uninstalling a distutils installed project (werkzeug) has been deprecated and will be removed in a future version. This is due to the fact that uninstalling a distutils project will only partially uninstall the project.\n",
      "You are using pip version 8.1.2, however version 9.0.1 is available.\n",
      "You should consider upgrading via the 'python -m pip install --upgrade pip' command.\n"
     ]
    }
   ],
   "source": [
    "!pip install --upgrade tensorflow"
   ]
  },
  {
   "cell_type": "code",
   "execution_count": 3,
   "metadata": {},
   "outputs": [
    {
     "name": "stdout",
     "output_type": "stream",
     "text": [
      "Requirement already up-to-date: keras in c:\\users\\sigal\\anaconda3\\lib\\site-packages\n",
      "Requirement already up-to-date: pyyaml in c:\\users\\sigal\\anaconda3\\lib\\site-packages (from keras)\n",
      "Collecting scipy>=0.14 (from keras)\n",
      "  Using cached scipy-1.0.0-cp35-none-win_amd64.whl\n",
      "Requirement already up-to-date: six>=1.9.0 in c:\\users\\sigal\\anaconda3\\lib\\site-packages (from keras)\n",
      "Requirement already up-to-date: numpy>=1.9.1 in c:\\users\\sigal\\anaconda3\\lib\\site-packages (from keras)\n",
      "Installing collected packages: scipy\n",
      "  Found existing installation: scipy 0.18.1\n",
      "    Uninstalling scipy-0.18.1:\n",
      "      Successfully uninstalled scipy-0.18.1\n",
      "Successfully installed scipy-1.0.0\n"
     ]
    },
    {
     "name": "stderr",
     "output_type": "stream",
     "text": [
      "You are using pip version 8.1.2, however version 9.0.1 is available.\n",
      "You should consider upgrading via the 'python -m pip install --upgrade pip' command.\n"
     ]
    }
   ],
   "source": [
    "!pip install --upgrade keras"
   ]
  },
  {
   "cell_type": "code",
   "execution_count": 1,
   "metadata": {
    "scrolled": true
   },
   "outputs": [
    {
     "name": "stderr",
     "output_type": "stream",
     "text": [
      "C:\\Users\\sigal\\Anaconda3\\envs\\tensorflow\\lib\\site-packages\\h5py\\__init__.py:34: FutureWarning: Conversion of the second argument of issubdtype from `float` to `np.floating` is deprecated. In future, it will be treated as `np.float64 == np.dtype(float).type`.\n",
      "  from ._conv import register_converters as _register_converters\n"
     ]
    },
    {
     "name": "stdout",
     "output_type": "stream",
     "text": [
      "b'Hello, TensorFlow!'\n"
     ]
    }
   ],
   "source": [
    "import tensorflow as tf\n",
    "hello = tf.constant('Hello, TensorFlow!')\n",
    "sess = tf.Session()\n",
    "print(sess.run(hello))"
   ]
  },
  {
   "cell_type": "markdown",
   "metadata": {},
   "source": [
    "I had some trouble, so I followed these reinstalling advices:\n",
    "https://stackoverflow.com/questions/34097988/how-do-i-install-keras-and-theano-in-anaconda-python-on-windows\n",
    "- Open the Anaconda prompt\n",
    "- Run conda install mingw libpython\n",
    "- Install the latest version of Theano, pip install git+git://github.com/Theano/Theano.git\n",
    "- Run pip install git+git://github.com/fchollet/keras.git"
   ]
  },
  {
   "cell_type": "code",
   "execution_count": 4,
   "metadata": {
    "collapsed": true
   },
   "outputs": [],
   "source": [
    "import tensorflow as tf"
   ]
  },
  {
   "cell_type": "markdown",
   "metadata": {},
   "source": [
    "then I followed the instrctions in <https://keras.io/backend/> and changed the backend of keras to tensorflow: \n",
    "\n",
    "#### Switching from one backend to another\n",
    "\n",
    "If you have run Keras at least once, you will find the Keras configuration file at:\n",
    "\n",
    "$HOME/.keras/keras.json (for me it was C:\\\\Users\\\\sigal\\\\.keras)\n",
    "\n",
    "\n",
    "The default configuration file looks like this:\n",
    "\n",
    "{\n",
    "    \"image_data_format\": \"channels_last\",\n",
    "    \"epsilon\": 1e-07,\n",
    "    \"floatx\": \"float32\",\n",
    "    \"backend\": \"tensorflow\"\n",
    "}\n",
    "Simply change the field backend to \"theano\", \"tensorflow\", or \"cntk\", and Keras will use the new configuration next time you run any Keras code."
   ]
  },
  {
   "cell_type": "code",
   "execution_count": 1,
   "metadata": {},
   "outputs": [
    {
     "name": "stderr",
     "output_type": "stream",
     "text": [
      "C:\\Users\\sigal\\Anaconda3\\envs\\tensorflow\\lib\\site-packages\\h5py\\__init__.py:34: FutureWarning: Conversion of the second argument of issubdtype from `float` to `np.floating` is deprecated. In future, it will be treated as `np.float64 == np.dtype(float).type`.\n",
      "  from ._conv import register_converters as _register_converters\n",
      "Using TensorFlow backend.\n"
     ]
    },
    {
     "data": {
      "text/plain": [
       "'tensorflow'"
      ]
     },
     "execution_count": 1,
     "metadata": {},
     "output_type": "execute_result"
    }
   ],
   "source": [
    "from keras import backend as K\n",
    "K.backend()#set_image_dim_ordering('th')"
   ]
  },
  {
   "cell_type": "code",
   "execution_count": 2,
   "metadata": {},
   "outputs": [],
   "source": [
    "import keras"
   ]
  },
  {
   "cell_type": "code",
   "execution_count": null,
   "metadata": {
    "collapsed": true
   },
   "outputs": [],
   "source": []
  }
 ],
 "metadata": {
  "kernelspec": {
   "display_name": "Python 3",
   "language": "python",
   "name": "python3"
  },
  "language_info": {
   "codemirror_mode": {
    "name": "ipython",
    "version": 3
   },
   "file_extension": ".py",
   "mimetype": "text/x-python",
   "name": "python",
   "nbconvert_exporter": "python",
   "pygments_lexer": "ipython3",
   "version": "3.6.3"
  }
 },
 "nbformat": 4,
 "nbformat_minor": 2
}
